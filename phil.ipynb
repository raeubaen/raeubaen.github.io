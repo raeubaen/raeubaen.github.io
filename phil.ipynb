{
  "nbformat": 4,
  "nbformat_minor": 0,
  "metadata": {
    "kernelspec": {
      "display_name": "Python 3.6.9 64-bit",
      "language": "python",
      "name": "python36964bit3d274c29e8a44b108e00b218e49e15f7"
    },
    "language_info": {
      "codemirror_mode": {
        "name": "ipython",
        "version": 3
      },
      "file_extension": ".py",
      "mimetype": "text/x-python",
      "name": "python",
      "nbconvert_exporter": "python",
      "pygments_lexer": "ipython3",
      "version": "3.6.9"
    },
    "colab": {
      "name": "phil.ipynb",
      "provenance": [],
      "include_colab_link": true
    }
  },
  "cells": [
    {
      "cell_type": "markdown",
      "metadata": {
        "id": "view-in-github",
        "colab_type": "text"
      },
      "source": [
        "<a href=\"https://colab.research.google.com/github/raeubaen/raeubaen.github.io/blob/master/phil.ipynb\" target=\"_parent\"><img src=\"https://colab.research.google.com/assets/colab-badge.svg\" alt=\"Open In Colab\"/></a>"
      ]
    },
    {
      "cell_type": "code",
      "metadata": {
        "id": "hLVUkqGU_nv8",
        "colab_type": "code",
        "colab": {}
      },
      "source": [
        "from PIL import Image as im\n",
        "import numpy as np\n",
        "import matplotlib.pyplot as plt\n",
        "import os\n",
        "import pandas as pd"
      ],
      "execution_count": 0,
      "outputs": []
    },
    {
      "cell_type": "markdown",
      "metadata": {
        "id": "5VzwvY25_nwM",
        "colab_type": "text"
      },
      "source": [
        "Innanzitutto processo la maschera da applicare. <br>\n",
        "Essa viene portata alla risoluzione finale in bianco e nero e mostrata in figura. <br>\n",
        "`size` indica quante foto vanno inserite per riga e colonna."
      ]
    },
    {
      "cell_type": "code",
      "metadata": {
        "id": "Xq6qI_TF_nwN",
        "colab_type": "code",
        "outputId": "6d6e647d-513c-448a-ab28-13300413c26a",
        "colab": {}
      },
      "source": [
        "mask_size = 10\n",
        "thresold = 200\n",
        "\n",
        "mask = (\n",
        "    np.asarray(\n",
        "        im.open(\"mask.jpg\").convert(\"L\").resize((mask_size, mask_size))\n",
        "    ) > thresold\n",
        ") * 1.0\n",
        "\n",
        "\n",
        "print(pd.DataFrame(mask))\n",
        "plt.imshow(mask, cmap=\"binary\")"
      ],
      "execution_count": 0,
      "outputs": [
        {
          "output_type": "stream",
          "text": [
            "     0    1    2    3    4    5    6    7    8    9\n",
            "0  1.0  1.0  1.0  1.0  1.0  1.0  1.0  1.0  1.0  1.0\n",
            "1  1.0  1.0  1.0  1.0  0.0  1.0  1.0  1.0  1.0  1.0\n",
            "2  1.0  1.0  0.0  0.0  0.0  0.0  1.0  1.0  1.0  1.0\n",
            "3  1.0  1.0  0.0  0.0  0.0  0.0  0.0  1.0  1.0  1.0\n",
            "4  1.0  1.0  0.0  0.0  0.0  0.0  0.0  1.0  1.0  1.0\n",
            "5  1.0  1.0  0.0  0.0  0.0  0.0  0.0  1.0  1.0  1.0\n",
            "6  1.0  1.0  0.0  0.0  0.0  0.0  0.0  1.0  1.0  1.0\n",
            "7  1.0  1.0  0.0  0.0  0.0  0.0  1.0  1.0  1.0  1.0\n",
            "8  1.0  1.0  1.0  1.0  0.0  1.0  1.0  1.0  1.0  1.0\n",
            "9  1.0  1.0  1.0  1.0  1.0  1.0  1.0  1.0  1.0  1.0\n"
          ],
          "name": "stdout"
        },
        {
          "output_type": "execute_result",
          "data": {
            "text/plain": [
              "<matplotlib.image.AxesImage at 0x7f53d72bc1d0>"
            ]
          },
          "metadata": {
            "tags": []
          },
          "execution_count": 4
        },
        {
          "output_type": "display_data",
          "data": {
            "image/png": "[encoded data removed]",
            "text/plain": [
              "<Figure size 432x288 with 1 Axes>"
            ]
          },
          "metadata": {
            "tags": [],
            "needs_background": "light"
          }
        }
      ]
    },
    {
      "cell_type": "markdown",
      "metadata": {
        "id": "IYq94-6I_3l2",
        "colab_type": "text"
      },
      "source": [
        "Ora acquisisco l'immagine che verrà usata come \"traccia\" e anche tutte le altre, che verranno disposte a caso. <br>\n",
        "A titolo di esempio, l'immagine \"traccia\" è bianca e le altre colorate."
      ]
    },
    {
      "cell_type": "code",
      "metadata": {
        "scrolled": true,
        "id": "FJQxswki_nwc",
        "colab_type": "code",
        "outputId": "fcb149aa-2175-4171-ade6-31c3fa24232b",
        "colab": {}
      },
      "source": [
        "photo_size = 300\n",
        "final_size = photo_size*mask_size\n",
        "print(f\"Final resolution: {final_size}x{final_size}\\n\")\n",
        "\n",
        "print('Immagine \"traccia\":')\n",
        "trace = np.array(\n",
        "        im.open(\"trace.png\").convert(\"RGB\").resize((photo_size, photo_size))\n",
        "    )\n",
        "plt.imshow(trace)\n",
        "plt.show()\n",
        "print(\"Altre immagini:\")\n",
        "folder_name = \"photos\"\n",
        "photos = []\n",
        "for file in os.listdir(folder_name):\n",
        "    photo = np.array(\n",
        "        im.open(os.path.join(folder_name, file)).convert(\"RGB\").resize((photo_size, photo_size))\n",
        "    ).astype(\"uint8\")\n",
        "    photos.append(photo)\n",
        "    plt.close()\n",
        "    plt.imshow(photo)\n",
        "    plt.show()\n"
      ],
      "execution_count": 0,
      "outputs": [
        {
          "output_type": "stream",
          "text": [
            "Final resolution: 3000x3000\n",
            "\n",
            "Immagine \"traccia\":\n"
          ],
          "name": "stdout"
        },
        {
          "output_type": "display_data",
          "data": {
            "image/png": "[encoded data removed]",
            "text/plain": [
              "<Figure size 432x288 with 1 Axes>"
            ]
          },
          "metadata": {
            "tags": [],
            "needs_background": "light"
          }
        },
        {
          "output_type": "stream",
          "text": [
            "Altre immagini:\n"
          ],
          "name": "stdout"
        },
        {
          "output_type": "display_data",
          "data": {
            "image/png": "[encoded data removed]",
            "text/plain": [
              "<Figure size 432x288 with 1 Axes>"
            ]
          },
          "metadata": {
            "tags": [],
            "needs_background": "light"
          }
        },
        {
          "output_type": "display_data",
          "data": {
            "image/png": "[encoded data removed]",
            "text/plain": [
              "<Figure size 432x288 with 1 Axes>"
            ]
          },
          "metadata": {
            "tags": [],
            "needs_background": "light"
          }
        },
        {
          "output_type": "display_data",
          "data": {
            "image/png": "[encoded data removed]",
            "text/plain": [
              "<Figure size 432x288 with 1 Axes>"
            ]
          },
          "metadata": {
            "tags": [],
            "needs_background": "light"
          }
        },
        {
          "output_type": "display_data",
          "data": {
            "image/png": "[encoded data removed]",
            "text/plain": [
              "<Figure size 432x288 with 1 Axes>"
            ]
          },
          "metadata": {
            "tags": [],
            "needs_background": "light"
          }
        },
        {
          "output_type": "display_data",
          "data": {
            "image/png": "[encoded data removed]",
            "text/plain": [
              "<Figure size 432x288 with 1 Axes>"
            ]
          },
          "metadata": {
            "tags": [],
            "needs_background": "light"
          }
        },
        {
          "output_type": "display_data",
          "data": {
            "image/png": "[encoded data removed]",
            "text/plain": [
              "<Figure size 432x288 with 1 Axes>"
            ]
          },
          "metadata": {
            "tags": [],
            "needs_background": "light"
          }
        },
        {
          "output_type": "display_data",
          "data": {
            "image/png": "[encoded data removed]",
            "text/plain": [
              "<Figure size 432x288 with 1 Axes>"
            ]
          },
          "metadata": {
            "tags": [],
            "needs_background": "light"
          }
        },
        {
          "output_type": "display_data",
          "data": {
            "image/png": "[encoded data removed]",
            "text/plain": [
              "<Figure size 432x288 with 1 Axes>"
            ]
          },
          "metadata": {
            "tags": [],
            "needs_background": "light"
          }
        }
      ]
    },
    {
      "cell_type": "markdown",
      "metadata": {
        "id": "IyJLxXuVAG8d",
        "colab_type": "text"
      },
      "source": [
        "Le immagini colorate vengono disposte a caso, mentre quella bianca segue la disposizione indicata dalla maschera."
      ]
    },
    {
      "cell_type": "code",
      "metadata": {
        "id": "JXf3yoJI_nwn",
        "colab_type": "code",
        "outputId": "672e3c56-9caf-4bca-bd26-150d6efebbe5",
        "colab": {}
      },
      "source": [
        "new_image = np.zeros((final_size, final_size, 3)).astype(\"uint8\")\n",
        "\n",
        "p = photo_size\n",
        "photos_num = len(photos)\n",
        "for i in range(mask_size):\n",
        "    for j in range(mask_size):\n",
        "        if mask[i][j] == 0:\n",
        "            new_image[p*i : p*(i+1), p*j : p*(j+1)] = trace\n",
        "        else:\n",
        "            new_image[p*i : p*(i+1), p*j : p*(j+1)] = photos[np.random.randint(0, photos_num)]\n",
        "            \n",
        "plt.imshow(new_image)\n",
        "plt.show()"
      ],
      "execution_count": 0,
      "outputs": [
        {
          "output_type": "display_data",
          "data": {
            "image/png": "[encoded data removed]",
            "text/plain": [
              "<Figure size 432x288 with 1 Axes>"
            ]
          },
          "metadata": {
            "tags": [],
            "needs_background": "light"
          }
        }
      ]
    },
    {
      "cell_type": "code",
      "metadata": {
        "id": "QSH9Q8A9_nwx",
        "colab_type": "code",
        "colab": {}
      },
      "source": [
        ""
      ],
      "execution_count": 0,
      "outputs": []
    }
  ]
}