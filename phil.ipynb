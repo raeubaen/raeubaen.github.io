{
  "nbformat": 4,
  "nbformat_minor": 0,
  "metadata": {
    "kernelspec": {
      "display_name": "Python 3.6.9 64-bit",
      "language": "python",
      "name": "python36964bit3d274c29e8a44b108e00b218e49e15f7"
    },
    "language_info": {
      "codemirror_mode": {
        "name": "ipython",
        "version": 3
      },
      "file_extension": ".py",
      "mimetype": "text/x-python",
      "name": "python",
      "nbconvert_exporter": "python",
      "pygments_lexer": "ipython3",
      "version": "3.6.9"
    },
    "colab": {
      "name": "phil.ipynb",
      "provenance": [],
      "collapsed_sections": [],
      "include_colab_link": true
    }
  },
  "cells": [
    {
      "cell_type": "markdown",
      "metadata": {
        "id": "view-in-github",
        "colab_type": "text"
      },
      "source": [
        "<a href=\"https://colab.research.google.com/github/raeubaen/raeubaen.github.io/blob/master/phil.ipynb\" target=\"_parent\"><img src=\"https://colab.research.google.com/assets/colab-badge.svg\" alt=\"Open In Colab\"/></a>"
      ]
    },
    {
      "cell_type": "markdown",
      "metadata": {
        "id": "rhe9T-X3sYaw",
        "colab_type": "text"
      },
      "source": [
        "Le celle (i rettangoli grigi) col codice si eseguono cliccando sul pulsante \"Play\" in alto a sinistra in ciascuna cella. <br>\n",
        "Per eseguire tutto da capo, Runtime -> Restart and run all <br>\n",
        "La prima cosa da fare è accedere a Drive, eseguendo la prima cella e seguendo le sue indicazioni. <br>\n",
        "Una volta incollato in codice nella casella, premi Invio."
      ]
    },
    {
      "cell_type": "code",
      "metadata": {
        "id": "1-L8mrhNsXOE",
        "colab_type": "code",
        "colab": {}
      },
      "source": [
        "from google.colab import drive\n",
        "drive.mount('/content/drive')"
      ],
      "execution_count": 0,
      "outputs": []
    },
    {
      "cell_type": "markdown",
      "metadata": {
        "id": "JMt_GkYrtOU0",
        "colab_type": "text"
      },
      "source": [
        "La cella in basso importa i pacchetti richiesti."
      ]
    },
    {
      "cell_type": "code",
      "metadata": {
        "id": "hLVUkqGU_nv8",
        "colab_type": "code",
        "colab": {}
      },
      "source": [
        "from PIL import Image as im\n",
        "import numpy as np\n",
        "import matplotlib.pyplot as plt\n",
        "import os\n",
        "import pandas as pd"
      ],
      "execution_count": 0,
      "outputs": []
    },
    {
      "cell_type": "markdown",
      "metadata": {
        "id": "T9484rCPtV32",
        "colab_type": "text"
      },
      "source": [
        "Ora si definisce l'accesso ai file di Drive.\n",
        "\n",
        "E' consigliato inserire tutti i file necessari in una cartella \"cover\" su Drive. <br> \n",
        "Al suo interno devono esserci:<br>\n",
        "  \"mask.jpg\", immagine in bianco e nero con la maschera da applicare<br>\n",
        "  \"trace.jpg\", immagine \"traccia\". <br>\n",
        "  una cartella \"photos\" con all'interno le foto coi filtri da usare <br>\n",
        "\n",
        "Tutti i nomi di file e cartelle possono essere cambiati facilmente dal codice.\n"
      ]
    },
    {
      "cell_type": "code",
      "metadata": {
        "id": "OpVEBPbl0ldM",
        "colab_type": "code",
        "colab": {}
      },
      "source": [
        "drive_folder = '/content/drive/My Drive'\n",
        "cover_folder = os.path.join(drive_folder, 'cover')\n",
        "photos_folder = os.path.join(cover_folder, 'photos')"
      ],
      "execution_count": 0,
      "outputs": []
    },
    {
      "cell_type": "markdown",
      "metadata": {
        "id": "5VzwvY25_nwM",
        "colab_type": "text"
      },
      "source": [
        "Innanzitutto processo la maschera da applicare. <br>\n",
        "Essa viene portata alla risoluzione finale in bianco e nero e mostrata in figura. <br>\n",
        "`size` indica quante foto vanno inserite per riga e colonna.\n",
        "\n",
        "I pixel in bianco nell'immagine di maschera diventano 1 nella tabella in basso e nero nella figura, e viceversa. <br>\n",
        "L'immagine \"traccia\" è applicata sulle parti nere dell'immagine, che sono bianche in figura."
      ]
    },
    {
      "cell_type": "code",
      "metadata": {
        "id": "Xq6qI_TF_nwN",
        "colab_type": "code",
        "outputId": "37403061-4b54-4f6d-c136-3cfc82398bbb",
        "colab": {
          "base_uri": "https://localhost:8080/",
          "height": 473
        }
      },
      "source": [
        "mask_size = 10\n",
        "thresold = 200\n",
        "\n",
        "mask_file = os.path.join(cover_folder, 'mask.jpg')\n",
        "mask = (\n",
        "    np.asarray(\n",
        "        im.open(mask_file).convert(\"L\").resize((mask_size, mask_size))\n",
        "    ) > thresold\n",
        ") * 1.0\n",
        "\n",
        "\n",
        "print(pd.DataFrame(mask))\n",
        "\n",
        "plt.imshow(mask, cmap=\"binary\")"
      ],
      "execution_count": 0,
      "outputs": [
        {
          "output_type": "stream",
          "text": [
            "     0    1    2    3    4    5    6    7    8    9\n",
            "0  1.0  1.0  1.0  1.0  1.0  1.0  1.0  1.0  1.0  1.0\n",
            "1  1.0  1.0  1.0  0.0  0.0  1.0  1.0  1.0  1.0  1.0\n",
            "2  1.0  1.0  0.0  0.0  0.0  0.0  0.0  1.0  1.0  1.0\n",
            "3  1.0  1.0  0.0  0.0  0.0  0.0  0.0  1.0  1.0  1.0\n",
            "4  1.0  0.0  0.0  0.0  0.0  0.0  0.0  1.0  1.0  1.0\n",
            "5  1.0  0.0  0.0  0.0  0.0  0.0  0.0  1.0  1.0  1.0\n",
            "6  1.0  1.0  0.0  0.0  0.0  0.0  0.0  1.0  1.0  1.0\n",
            "7  1.0  1.0  0.0  0.0  0.0  0.0  0.0  1.0  1.0  1.0\n",
            "8  1.0  1.0  1.0  0.0  0.0  0.0  1.0  1.0  1.0  1.0\n",
            "9  1.0  1.0  1.0  1.0  1.0  1.0  1.0  1.0  1.0  1.0\n"
          ],
          "name": "stdout"
        },
        {
          "output_type": "execute_result",
          "data": {
            "text/plain": [
              "<matplotlib.image.AxesImage at 0x7f4e430eb470>"
            ]
          },
          "metadata": {
            "tags": []
          },
          "execution_count": 4
        },
        {
          "output_type": "display_data",
          "data": {
            "image/png": "[encoded data removed]",
            "text/plain": [
              "<Figure size 432x288 with 1 Axes>"
            ]
          },
          "metadata": {
            "tags": [],
            "needs_background": "light"
          }
        }
      ]
    },
    {
      "cell_type": "markdown",
      "metadata": {
        "id": "IYq94-6I_3l2",
        "colab_type": "text"
      },
      "source": [
        "Ora acquisisco l'immagine che verrà usata come \"traccia\" e anche tutte le altre, che verranno disposte a caso. <br>\n",
        "A titolo di esempio, l'immagine \"traccia\" è bianca e le altre colorate."
      ]
    },
    {
      "cell_type": "code",
      "metadata": {
        "scrolled": true,
        "id": "FJQxswki_nwc",
        "colab_type": "code",
        "outputId": "a2b01162-8bbc-465c-9c60-d54e52e5900d",
        "colab": {
          "base_uri": "https://localhost:8080/",
          "height": 1000
        }
      },
      "source": [
        "photo_size = 300\n",
        "final_size = photo_size*mask_size\n",
        "print(f\"Final resolution: {final_size}x{final_size}\\n\")\n",
        "\n",
        "trace_file = os.path.join(cover_folder, 'trace.png')\n",
        "\n",
        "print('Immagine \"traccia\":')\n",
        "trace = np.array(\n",
        "        im.open(trace_file).convert(\"RGB\").resize((photo_size, photo_size))\n",
        "    )\n",
        "plt.imshow(trace)\n",
        "plt.show()\n",
        "print(\"Altre immagini:\")\n",
        "photos = []\n",
        "for file in os.listdir(photos_folder):\n",
        "    photo = np.array(\n",
        "        im.open(os.path.join(photos_folder, file)).convert(\"RGB\").resize((photo_size, photo_size))\n",
        "    ).astype(\"uint8\")\n",
        "    photos.append(photo)\n",
        "    plt.close()\n",
        "    plt.imshow(photo)\n",
        "    plt.show()\n"
      ],
      "execution_count": 0,
      "outputs": [
        {
          "output_type": "stream",
          "text": [
            "Final resolution: 3000x3000\n",
            "\n",
            "Immagine \"traccia\":\n"
          ],
          "name": "stdout"
        },
        {
          "output_type": "display_data",
          "data": {
            "image/png": "[encoded data removed]",
            "text/plain": [
              "<Figure size 432x288 with 1 Axes>"
            ]
          },
          "metadata": {
            "tags": [],
            "needs_background": "light"
          }
        },
        {
          "output_type": "stream",
          "text": [
            "Altre immagini:\n"
          ],
          "name": "stdout"
        },
        {
          "output_type": "display_data",
          "data": {
            "image/png": "[encoded data removed]",
            "text/plain": [
              "<Figure size 432x288 with 1 Axes>"
            ]
          },
          "metadata": {
            "tags": [],
            "needs_background": "light"
          }
        },
        {
          "output_type": "display_data",
          "data": {
            "image/png": "[encoded data removed]",
            "text/plain": [
              "<Figure size 432x288 with 1 Axes>"
            ]
          },
          "metadata": {
            "tags": [],
            "needs_background": "light"
          }
        },
        {
          "output_type": "display_data",
          "data": {
            "image/png": "[encoded data removed]",
            "text/plain": [
              "<Figure size 432x288 with 1 Axes>"
            ]
          },
          "metadata": {
            "tags": [],
            "needs_background": "light"
          }
        },
        {
          "output_type": "display_data",
          "data": {
            "image/png": "[encoded data removed]",
            "text/plain": [
              "<Figure size 432x288 with 1 Axes>"
            ]
          },
          "metadata": {
            "tags": [],
            "needs_background": "light"
          }
        },
        {
          "output_type": "display_data",
          "data": {
            "image/png": "[encoded data removed]",
            "text/plain": [
              "<Figure size 432x288 with 1 Axes>"
            ]
          },
          "metadata": {
            "tags": [],
            "needs_background": "light"
          }
        },
        {
          "output_type": "display_data",
          "data": {
            "image/png": "[encoded data removed]",
            "text/plain": [
              "<Figure size 432x288 with 1 Axes>"
            ]
          },
          "metadata": {
            "tags": [],
            "needs_background": "light"
          }
        },
        {
          "output_type": "display_data",
          "data": {
            "image/png": "[encoded data removed]",
            "text/plain": [
              "<Figure size 432x288 with 1 Axes>"
            ]
          },
          "metadata": {
            "tags": [],
            "needs_background": "light"
          }
        },
        {
          "output_type": "display_data",
          "data": {
            "image/png": "[encoded data removed]",
            "text/plain": [
              "<Figure size 432x288 with 1 Axes>"
            ]
          },
          "metadata": {
            "tags": [],
            "needs_background": "light"
          }
        }
      ]
    },
    {
      "cell_type": "markdown",
      "metadata": {
        "id": "IyJLxXuVAG8d",
        "colab_type": "text"
      },
      "source": [
        "Le immagini colorate vengono disposte a caso, mentre quella bianca segue la disposizione indicata dalla maschera.\n",
        "\n",
        "Il risultato viene salvato in un file su Drive (nella cartella \"cover\") che inizia con output e contiene la data e l'ora della creazione. <br>\n",
        "Ad esempio `output1520.png` <br>\n",
        "Ci saranno molto probabilmente problemi coi fusi orari, pazienza. <br>\n",
        "\n",
        "Rieseguendo la cella più volte si ottengono risultati diversi, che vengono salvati tutti su Drive.\n"
      ]
    },
    {
      "cell_type": "code",
      "metadata": {
        "id": "JXf3yoJI_nwn",
        "colab_type": "code",
        "outputId": "b0698a22-3a80-4f48-bb6a-ea56d97df578",
        "colab": {
          "base_uri": "https://localhost:8080/",
          "height": 269
        }
      },
      "source": [
        "from pytz import timezone\n",
        "from datetime import datetime\n",
        "\n",
        "time = datetime.now(timezone('Europe/Rome')).strftime('%H:%M:%S')\n",
        "\n",
        "new_image = np.zeros((final_size, final_size, 3)).astype(\"uint8\")\n",
        "\n",
        "output_file = os.path.join(cover_folder, f\"output{time}.png\")\n",
        "\n",
        "p = photo_size\n",
        "photos_num = len(photos)\n",
        "for i in range(mask_size):\n",
        "    for j in range(mask_size):\n",
        "        if mask[i][j] == 0:\n",
        "            new_image[p*i : p*(i+1), p*j : p*(j+1)] = trace\n",
        "        else:\n",
        "            new_image[p*i : p*(i+1), p*j : p*(j+1)] = photos[np.random.randint(0, photos_num)]\n",
        "            \n",
        "plt.imshow(new_image)\n",
        "plt.savefig(output_file)\n",
        "plt.show()"
      ],
      "execution_count": 0,
      "outputs": [
        {
          "output_type": "display_data",
          "data": {
            "image/png": "[encoded data removed]",
            "text/plain": [
              "<Figure size 432x288 with 1 Axes>"
            ]
          },
          "metadata": {
            "tags": [],
            "needs_background": "light"
          }
        }
      ]
    },
    {
      "cell_type": "code",
      "metadata": {
        "id": "QSH9Q8A9_nwx",
        "colab_type": "code",
        "colab": {}
      },
      "source": [
        ""
      ],
      "execution_count": 0,
      "outputs": []
    }
  ]
}